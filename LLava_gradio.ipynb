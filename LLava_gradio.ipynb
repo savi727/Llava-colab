{
  "cells": [
    {
      "cell_type": "markdown",
      "metadata": {
        "colab_type": "text",
        "id": "view-in-github"
      },
      "source": [
        "<a href=\"https://colab.research.google.com/github/xjdeng/Llava-colab/blob/main/LLava_gradio.ipynb\" target=\"_parent\"><img src=\"https://colab.research.google.com/assets/colab-badge.svg\" alt=\"Open In Colab\"/></a>"
      ]
    },
    {
      "cell_type": "code",
      "execution_count": null,
      "metadata": {
        "id": "UpaC8vuVTsEp"
      },
      "outputs": [],
      "source": [
        "model_path = \"liuhaotian/llava-v1.6-vicuna-7b\" # @param {\"type\":\"string\",\"placeholder\":\"\\\"liuhaotian/llava-v1.6-vicuna-7b\\\"\"}\n",
        "%cd /content\n",
        "!git clone https://github.com/savi727/LLaVA\n",
        "%cd /content/LLaVA\n",
        "!git clone https://github.com/savi727/Llava-colab\n",
        "!pip install -q -r Llava-colab/requirements.txt\n",
        "!pip install -q gradio ."
      ]
    },
    {
      "cell_type": "code",
      "execution_count": null,
      "metadata": {
        "id": "z1fyCLtuU7C0"
      },
      "outputs": [],
      "source": [
        "%cd Llava-colab\n",
        "!git pull\n",
        "%cd ..\n",
        "!cp Llava-colab/backend.py ."
      ]
    },
    {
      "cell_type": "code",
      "execution_count": null,
      "metadata": {
        "id": "PIg3LjMqUC8w"
      },
      "outputs": [],
      "source": [
        "!python backend.py $model_path"
      ]
    },
    {
      "cell_type": "code",
      "execution_count": null,
      "metadata": {
        "id": "VC8JQNrrVaN0"
      },
      "outputs": [],
      "source": []
    }
  ],
  "metadata": {
    "accelerator": "GPU",
    "colab": {
      "authorship_tag": "ABX9TyMRN8xdg7ADcnS8x5ABL6g6",
      "gpuType": "T4",
      "include_colab_link": true,
      "provenance": []
    },
    "kernelspec": {
      "display_name": "Python 3",
      "name": "python3"
    },
    "language_info": {
      "name": "python"
    }
  },
  "nbformat": 4,
  "nbformat_minor": 0
}
